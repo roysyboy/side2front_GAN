{
  "nbformat": 4,
  "nbformat_minor": 0,
  "metadata": {
    "colab": {
      "name": "test_gan.ipynb",
      "provenance": [],
      "collapsed_sections": []
    },
    "kernelspec": {
      "name": "python3",
      "display_name": "Python 3"
    },
    "language_info": {
      "name": "python"
    },
    "accelerator": "GPU"
  },
  "cells": [
    {
      "cell_type": "code",
      "execution_count": 424,
      "metadata": {
        "id": "JVyuTUZ8j88t"
      },
      "outputs": [],
      "source": [
        "from __future__ import print_function\n",
        "#%matplotlib inline\n",
        "import argparse\n",
        "import os\n",
        "import random\n",
        "import torch\n",
        "import torch.nn as nn\n",
        "import torch.nn.parallel\n",
        "import torch.backends.cudnn as cudnn\n",
        "import torch.optim as optim\n",
        "import torch.utils.data\n",
        "from torch.utils.data import Dataset\n",
        "import torchvision.datasets as dset\n",
        "import torchvision.transforms as transforms\n",
        "import torchvision.utils as vutils\n",
        "import numpy as np\n",
        "import matplotlib.pyplot as plt\n",
        "import matplotlib.animation as animation\n",
        "from IPython.display import HTML\n",
        "import torch.nn.functional as F"
      ]
    },
    {
      "cell_type": "code",
      "source": [
        "from google.colab import drive\n",
        "drive.mount('/content/drive')\n",
        "\n",
        "FOLDERNAME = 'cs231n/project/data/'\n",
        "\n",
        "path = '/content/drive/My Drive/{}'.format(FOLDERNAME)\n",
        "\n",
        "# import sys\n",
        "# sys.path.append()\n",
        "# %cd /content/drive/My\\ Drive/$FOLDERNAME/cs231n/datasets/\n",
        "# !bash get_datasets.sh\n",
        "# %cd /content/drive/My\\ Drive/$FOLDERNAME\n"
      ],
      "metadata": {
        "colab": {
          "base_uri": "https://localhost:8080/"
        },
        "id": "6KXNoK9tsOoP",
        "outputId": "f5b6df51-acc0-41ae-95c0-3e1f0f8d5f92"
      },
      "execution_count": 425,
      "outputs": [
        {
          "output_type": "stream",
          "name": "stdout",
          "text": [
            "Drive already mounted at /content/drive; to attempt to forcibly remount, call drive.mount(\"/content/drive\", force_remount=True).\n"
          ]
        }
      ]
    },
    {
      "cell_type": "markdown",
      "source": [
        "# Intialize Variables"
      ],
      "metadata": {
        "id": "J1iepy6nogKa"
      }
    },
    {
      "cell_type": "code",
      "source": [
        "# Root directory for dataset\n",
        "dataroot = path + 'cfp-dataset/'\n",
        "\n",
        "# Number of workers for dataloader\n",
        "# workers = 2\n",
        "\n",
        "# Batch size during training\n",
        "batch_size = 64\n",
        "\n",
        "# Spatial size of training images. All images will be resized to this\n",
        "#   size using a transformer.\n",
        "image_size = 64\n",
        "\n",
        "# Number of channels in the training images. For color images this is 3\n",
        "nc = 3\n",
        "\n",
        "# Size of z latent vector (i.e. size of generator input)\n",
        "nz = 100\n",
        "\n",
        "# Size of feature maps in generator\n",
        "ngf = 64\n",
        "\n",
        "# Size of feature maps in discriminator\n",
        "ndf = 64\n",
        "\n",
        "# Number of training epochs\n",
        "num_epochs = 5\n",
        "\n",
        "# Learning rate for optimizers\n",
        "lr = 0.00016\n",
        "\n",
        "# Beta1 hyperparam for Adam optimizers\n",
        "beta1 = 0.5\n",
        "\n",
        "# Number of GPUs available. Use 0 for CPU mode.\n",
        "ngpu = 1\n",
        "\n",
        "if torch.cuda.is_available():\n",
        "    device = torch.device(\"cuda\")\n",
        "else:\n",
        "    device = torch.device(\"cpu\")"
      ],
      "metadata": {
        "id": "BsY83WSNkBWa"
      },
      "execution_count": 502,
      "outputs": []
    },
    {
      "cell_type": "code",
      "source": [
        "# !unzip '/content/drive/My Drive/cs231n/project/data/cfp-dataset.zip' -d '/content/drive/My Drive/cs231n/project/data/celebs'"
      ],
      "metadata": {
        "id": "KgS7X6Okzl1q"
      },
      "execution_count": 503,
      "outputs": []
    },
    {
      "cell_type": "markdown",
      "source": [
        "# Dataset Setup"
      ],
      "metadata": {
        "id": "fUxe68gsonFc"
      }
    },
    {
      "cell_type": "code",
      "source": [
        "\n",
        "# img_path = dataroot + 'Data/Images/'\n",
        "# for i in range(2, 501):\n",
        "# # for i in range(1, 501):\n",
        "#     folder_num = \"\".join(['0'] * (3 - len(str(i)))) + str(i)\n",
        "#     f_src = img_path + folder_num + \"/frontal/\"\n",
        "#     f_dst = dataroot + 'frontals/'\n",
        "\n",
        "#     p_src = img_path + folder_num + \"/profile/\"\n",
        "#     p_dst = dataroot + 'profiles/'\n",
        "#     # for f in os.listdir(f_src):\n",
        "#     for j in range(1, 5):\n",
        "#         old_fn = '0{}.jpg'.format(j)\n",
        "#         new_fn_f = str(i) + '_f_' + old_fn\n",
        "#         os.rename(f_src + old_fn, f_dst + new_fn_f)\n",
        "#         new_fn_p = str(i) + '_p_' + old_fn\n",
        "#         os.rename(p_src + old_fn, p_dst + new_fn_p)\n",
        "    \n",
        "\n"
      ],
      "metadata": {
        "id": "BT1HV5dOzMel"
      },
      "execution_count": 504,
      "outputs": []
    },
    {
      "cell_type": "code",
      "source": [
        "import os\n",
        "from torchvision.io import read_image, ImageReadMode\n",
        "\n",
        "class PFImageDataset(Dataset):\n",
        "    def __init__(self, profile_path, frontal_path, transform=None):\n",
        "        self.profile_path = profile_path\n",
        "        self.frontal_path = frontal_path\n",
        "        self.transform = transform\n",
        "\n",
        "    def __len__(self):\n",
        "        return 4 * 500\n",
        "\n",
        "    def __getitem__(self, idx):\n",
        "        p_img_file = '{}_p_0{}.jpg'.format(idx // 4 + 1, (idx - 1) % 4 + 1)\n",
        "        p_img_path = os.path.join(self.profile_path, p_img_file)\n",
        "\n",
        "        f_img_file = '{}_f_0{}.jpg'.format(idx // 4 + 1, (idx - 1) % 4 + 1)\n",
        "        f_img_path = os.path.join(self.frontal_path, f_img_file)\n",
        "        img_mode = ImageReadMode(1)\n",
        "        image = read_image(p_img_path, mode=img_mode.RGB)\n",
        "        label = read_image(f_img_path, mode=img_mode.RGB)\n",
        "        if self.transform is not None:\n",
        "            image = self.transform(image)\n",
        "            label = self.transform(label)\n",
        "        return image, label"
      ],
      "metadata": {
        "id": "mDFdZf86xgte"
      },
      "execution_count": 505,
      "outputs": []
    },
    {
      "cell_type": "code",
      "source": [
        "dataset_path = path + 'dataset/'\n",
        "print(dataset_path)\n",
        "\n",
        "profile_path = dataset_path + 'profiles/'\n",
        "frontal_path = dataset_path + 'frontals/'\n",
        "\n",
        "dataset = PFImageDataset(profile_path,\n",
        "                         frontal_path,\n",
        "                         transform=transforms.Compose([\n",
        "                             transforms.ToPILImage(),\n",
        "                             transforms.Resize(image_size),\n",
        "                             transforms.CenterCrop(image_size),\n",
        "                             transforms.ToTensor(),\n",
        "                             transforms.Normalize((0.5,),(0.5,)),\n",
        "                            #  transforms.ToTensor(),\n",
        "                            #  transforms.Normalize((0.5, 0.5), (0.5, 0.5)),\n",
        "                            #  transforms.Normalize((0.5, 0.5, 0.5), (0.5, 0.5, 0.5)),\n",
        "                         ]))\n",
        "\n",
        "# dataset = dset.ImageFolder(root=dataset_path,\n",
        "#                            transform=transforms.Compose([\n",
        "#                                transforms.Resize(image_size),\n",
        "#                                transforms.CenterCrop(image_size),\n",
        "#                                transforms.ToTensor(),\n",
        "#                                transforms.Normalize((0.5, 0.5, 0.5), (0.5, 0.5, 0.5)),\n",
        "#                            ]))\n",
        "\n",
        "# Create the dataloader\n",
        "# dataloader = torch.utils.data.DataLoader(dataset, batch_size=batch_size,\n",
        "#                                          shuffle=True, num_workers=workers)\n",
        "\n",
        "# Decide which device we want to run on\n",
        "# device = torch.device(\"cuda:0\" if (torch.cuda.is_available() and ngpu > 0) else \"cpu\")\n",
        "\n",
        "# Plot some training images\n",
        "# real_batch = next(iter(dataloader))\n",
        "# plt.figure(figsize=(8,8))\n",
        "# plt.axis(\"off\")\n",
        "# plt.title(\"Training Images\")\n",
        "# plt.imshow(np.transpose(vutils.make_grid(real_batch[0].to(device)[:64], padding=2, normalize=True).cpu(),(1,2,0)))\n",
        "\n",
        "\n",
        "## Weight Initialization:\n",
        "def weights_init(m):\n",
        "    classname = m.__class__.__name__\n",
        "    if classname.find('Conv') != -1:\n",
        "        nn.init.normal_(m.weight.data, 0.0, 0.02)\n",
        "    elif classname.find('BatchNorm') != -1:\n",
        "        nn.init.normal_(m.weight.data, 1.0, 0.02)\n",
        "        nn.init.constant_(m.bias.data, 0)\n",
        "\n"
      ],
      "metadata": {
        "colab": {
          "base_uri": "https://localhost:8080/"
        },
        "id": "O75XQfZ9n-np",
        "outputId": "01484254-43b6-4a7f-df79-233db20a69fb"
      },
      "execution_count": 506,
      "outputs": [
        {
          "output_type": "stream",
          "name": "stdout",
          "text": [
            "/content/drive/My Drive/cs231n/project/data/dataset/\n"
          ]
        }
      ]
    },
    {
      "cell_type": "code",
      "source": [
        "train_size = int(0.8 * len(dataset))\n",
        "test_size = len(dataset) - train_size\n",
        "train_dataset, test_dataset = torch.utils.data.random_split(dataset, [train_size, test_size])\n",
        "\n",
        "train_dataloader = torch.utils.data.DataLoader(train_dataset, batch_size=batch_size,\n",
        "                                        #  shuffle=True\n",
        "                                         )\n",
        "\n",
        "test_dataloader = torch.utils.data.DataLoader(test_dataset,\n",
        "                                            #   shuffle=True\n",
        "                                              )\n"
      ],
      "metadata": {
        "id": "QyaUltwjRzRf"
      },
      "execution_count": 507,
      "outputs": []
    },
    {
      "cell_type": "code",
      "source": [
        "# img = train_features[0]\n",
        "# label = train_labels[0]\n",
        "# plt.imshow(img.reshape((64, 64, 3)))\n",
        "# plt.show()\n",
        "# plt.imshow(label.reshape((64, 64, 3)))\n",
        "# plt.show()\n",
        "\n",
        "train_features, train_labels = next(iter(train_dataloader))\n",
        "print(f\"Feature batch shape: {train_features.size()}\")\n",
        "print(f\"Labels batch shape: {train_labels.size()}\")"
      ],
      "metadata": {
        "colab": {
          "base_uri": "https://localhost:8080/"
        },
        "id": "h6TIeIfeSNTZ",
        "outputId": "68b9961a-8115-4b0e-95c5-e64ad56b281b"
      },
      "execution_count": 508,
      "outputs": [
        {
          "output_type": "stream",
          "name": "stdout",
          "text": [
            "Feature batch shape: torch.Size([64, 3, 64, 64])\n",
            "Labels batch shape: torch.Size([64, 3, 64, 64])\n"
          ]
        }
      ]
    },
    {
      "cell_type": "code",
      "source": [
        "plt.figure(figsize=(8,8))\n",
        "plt.axis(\"off\")\n",
        "plt.title(\"Training-Label Pair Images\")\n",
        "plt.imshow(np.transpose(vutils.make_grid([train_features[0].to(device), train_labels[0].to(device)], padding=2, normalize=True).cpu(), (1,2,0)))"
      ],
      "metadata": {
        "colab": {
          "base_uri": "https://localhost:8080/",
          "height": 291
        },
        "id": "UZkn2WIJbYnl",
        "outputId": "4ff10106-a648-4afa-cd44-a975f0b199ff"
      },
      "execution_count": 509,
      "outputs": [
        {
          "output_type": "execute_result",
          "data": {
            "text/plain": [
              "<matplotlib.image.AxesImage at 0x7fe0a6dae210>"
            ]
          },
          "metadata": {},
          "execution_count": 509
        },
        {
          "output_type": "display_data",
          "data": {
            "text/plain": [
              "<Figure size 576x576 with 1 Axes>"
            ],
            "image/png": "[encoded data removed]"
          },
          "metadata": {
            "needs_background": "light"
          }
        }
      ]
    },
    {
      "cell_type": "markdown",
      "source": [
        "# Test Generator Class"
      ],
      "metadata": {
        "id": "eJ2INiaQRL3Q"
      }
    },
    {
      "cell_type": "code",
      "source": [
        "# class Generator(nn.Module):\n",
        "#     def __init__(self, ):\n",
        "#         super(Generator, self).__init__()\n",
        "#         self.ngpu = ngpu\n",
        "#         self.main = nn.Sequential(\n",
        "#             # nn.ConvTranspose2d( nz, ngf * 8, 4, 1, 0, bias=False),\n",
        "#             # nn.BatchNorm2d(ngf * 8),\n",
        "#             # nn.ReLU(True),\n",
        "#             # input is Z, going into a convolution\n",
        "#             nn.Conv2d(nc, image_size, 4, 2, 1),\n",
        "#             nn.Conv2d(ngf, out_channels, kernel_size, stride=stride, padding=padding),\n",
        "#             nn.BatchNorm2d(out_channels, momentum=0.1, eps=1e-5),\n",
        "\n",
        "#             # state size. (ngf*8) x 4 x 4\n",
        "#             nn.ConvTranspose2d(ngf * 8, ngf * 4, 4, 2, 1, bias=False),\n",
        "#             nn.BatchNorm2d(ngf * 4),\n",
        "#             nn.ReLU(True),\n",
        "#             # state size. (ngf*4) x 8 x 8\n",
        "#             nn.ConvTranspose2d( ngf * 4, ngf * 2, 4, 2, 1, bias=False),\n",
        "#             nn.BatchNorm2d(ngf * 2),\n",
        "#             nn.ReLU(True),\n",
        "#             # state size. (ngf*2) x 16 x 16\n",
        "#             nn.ConvTranspose2d( ngf * 2, ngf, 4, 2, 1, bias=False),\n",
        "#             nn.BatchNorm2d(ngf),\n",
        "#             nn.ReLU(True),\n",
        "#             # state size. (ngf) x 32 x 32\n",
        "#             nn.ConvTranspose2d( ngf, nc, 4, 2, 1, bias=False),\n",
        "#             nn.Tanh()\n",
        "#             # state size. (nc) x 64 x 64\n",
        "#         )\n",
        "\n",
        "#     def forward(self, input):\n",
        "#         return self.main(input)"
      ],
      "metadata": {
        "id": "5K3MXMdxoCSW"
      },
      "execution_count": 510,
      "outputs": []
    },
    {
      "cell_type": "markdown",
      "source": [
        "# Generator Class"
      ],
      "metadata": {
        "id": "lLicXQAsosSa"
      }
    },
    {
      "cell_type": "code",
      "source": [
        "def conv(in_channels, out_channels, kernel_size, stride=1, padding=0):\n",
        "    return nn.Conv2d(in_channels, out_channels, kernel_size, stride=stride, \n",
        "    padding=padding)\n",
        "def conv_n(in_channels, out_channels, kernel_size, stride=1, padding=0):\n",
        "    return nn.Sequential(nn.Conv2d(in_channels, out_channels, kernel_size, \n",
        "        stride=stride, padding=padding), nn.BatchNorm2d(out_channels, \n",
        "        momentum=0.1, eps=1e-5),)\n",
        "def tconv(in_channels, out_channels, kernel_size, stride=1, padding=0, output_padding=0):\n",
        "    return nn.ConvTranspose2d(in_channels, out_channels, kernel_size, stride=stride, \n",
        "    padding=padding, output_padding=output_padding)\n",
        "    \n",
        "def tconv_n(in_channels, out_channels, kernel_size, stride=1, padding=0, output_padding=0):\n",
        "    return nn.Sequential(nn.ConvTranspose2d(in_channels, out_channels, kernel_size, \n",
        "        stride=stride, padding=padding, output_padding=output_padding), \n",
        "        nn.BatchNorm2d(out_channels, momentum=0.1, eps=1e-5),)"
      ],
      "metadata": {
        "id": "p3BBPUAPRgZ_"
      },
      "execution_count": 511,
      "outputs": []
    },
    {
      "cell_type": "code",
      "source": [
        "class Generator(nn.Module):\n",
        "    def __init__(self):\n",
        "        super(Generator, self).__init__()\n",
        "        self.n1 = conv(nc, ngf, 4, 2, 1) \n",
        "        self.n2 = conv_n(ngf, ngf*2, 4, 2, 1)\n",
        "        self.n3 = conv_n(ngf*2, ngf*4, 4, 2, 1)\n",
        "        self.n4 = conv_n(ngf*4, ngf*8, 4, 2, 1)\n",
        "        self.n5 = conv(ngf*8, ngf*8, 4, 2, 1)\n",
        "        self.n6 = conv(ngf*8, ngf*8, 4, 2, 1)\n",
        "\n",
        "        self.m9 = tconv_n(ngf*8, ngf*8, 4, 2, 1)\n",
        "        self.m0 = tconv_n(ngf*8*2, ngf*8, 4, 2, 1)\n",
        "        self.m1 = tconv_n(ngf*8*2, ngf*4, 4, 2, 1)\n",
        "        # self.m0 = tconv_n(ngf*8, ngf*8, 4, 2, 1)\n",
        "        # self.m1 = tconv_n(ngf*8, ngf*4, 4, 2, 1)\n",
        "        self.m2 = tconv_n(ngf*4*2, ngf*2, 4, 2, 1)\n",
        "        self.m3 = tconv_n(ngf*2*2, ngf*1, 4, 2, 1)\n",
        "        self.m4 = tconv(ngf*1*2, nc, 4, 2, 1)\n",
        "\n",
        "        # self.n1 = conv(nc, ngf, 4, 2, 1) \n",
        "        # self.n2 = conv_n(ngf, ngf*2, 4, 2, 1)\n",
        "        # self.n3 = conv_n(ngf*2, ngf*4, 4, 2, 1)\n",
        "        # self.n4 = conv_n(ngf*4, ngf*8, 4, 2, 1)\n",
        "        # self.n5 = conv_n(ngf*8, ngf*8, 4, 2, 1)\n",
        "        # self.n6 = conv_n(ngf*8, ngf*8, 4, 2, 1)\n",
        "        # self.n7 = conv_n(ngf*8, ngf*8, 4, 2, 1)\n",
        "        # self.n8 = conv(ngf*8, ngf*8, 4, 2, 1)\n",
        "        # self.m1 = tconv_n(ngf*8, ngf*8, 4, 2, 1)\n",
        "        # self.m2 = tconv_n(ngf*8*2, ngf*8, 4, 2, 1)\n",
        "        # self.m3 = tconv_n(ngf*8*2, ngf*8, 4, 2, 1)\n",
        "        # self.m4 = tconv_n(ngf*8*2, ngf*8, 4, 2, 1)\n",
        "        # self.m5 = tconv_n(ngf*8*2, ngf*4, 4, 2, 1)\n",
        "        # self.m6 = tconv_n(ngf*4*2, ngf*2, 4, 2, 1)\n",
        "        # self.m7 = tconv_n(ngf*2*2, ngf*1, 4, 2, 1)\n",
        "        # self.m8 = tconv(ngf*1*2, nc, 4, 2, 1)\n",
        "\n",
        "        self.tanh = nn.Tanh()\n",
        "        \n",
        "    def forward(self,x):\n",
        "        n1 = self.n1(x)\n",
        "        n2 = self.n2(F.leaky_relu(n1, 0.2))\n",
        "        n3 = self.n3(F.leaky_relu(n2, 0.2))\n",
        "        n4 = self.n4(F.leaky_relu(n3, 0.2))\n",
        "\n",
        "        n5 = self.n5(F.leaky_relu(n4, 0.2))\n",
        "        n6 = self.n6(F.leaky_relu(n5, 0.2))\n",
        "\n",
        "        m9 = torch.cat([self.m9(F.relu(n6)), n5], 1)\n",
        "        m0 = torch.cat([self.m0(F.relu(m9)), n4], 1)\n",
        "        \n",
        "        m1 = torch.cat([self.m1(F.relu(m0)), n3], 1)\n",
        "        # m1 = torch.cat([self.m1(F.relu(n4)), n3], 1)\n",
        "        m2 = torch.cat([self.m2(F.relu(m1)), n2], 1)\n",
        "        m3 = torch.cat([self.m3(F.relu(m2)), n1], 1)\n",
        "        m4 = self.m4(F.relu(m3))\n",
        "\n",
        "        # n1 = self.n1(x)\n",
        "        # n2 = self.n2(F.leaky_relu(n1, 0.2))\n",
        "        # n3 = self.n3(F.leaky_relu(n2, 0.2))\n",
        "        # n4 = self.n4(F.leaky_relu(n3, 0.2))\n",
        "        # n5 = self.n5(F.leaky_relu(n4, 0.2))\n",
        "        # n6 = self.n6(F.leaky_relu(n5, 0.2))\n",
        "        # n7 = self.n7(F.leaky_relu(n6, 0.2))\n",
        "        # n8 = self.n8(F.leaky_relu(n7, 0.2))\n",
        "        # m1 = torch.cat([F.dropout(self.m1(F.relu(n8)), 0.5, training=True), n7], 1)\n",
        "        # m2 = torch.cat([F.dropout(self.m2(F.relu(m1)), 0.5, training=True), n6], 1)\n",
        "        # m3 = torch.cat([F.dropout(self.m3(F.relu(m2)), 0.5, training=True), n5], 1)\n",
        "        # m4 = torch.cat([self.m4(F.relu(m3)), n4], 1)\n",
        "        # m5 = torch.cat([self.m5(F.relu(m4)), n3], 1)\n",
        "        # m6 = torch.cat([self.m6(F.relu(m5)), n2], 1)\n",
        "        # m7 = torch.cat([self.m7(F.relu(m6)), n1], 1)\n",
        "        # m8 = self.m8(F.relu(m7))\n",
        "\n",
        "        return self.tanh(m4)"
      ],
      "metadata": {
        "id": "i1J0S7ZqRWgR"
      },
      "execution_count": 512,
      "outputs": []
    },
    {
      "cell_type": "code",
      "source": [
        "# Create the generator\n",
        "netG = Generator().to(device)\n",
        "\n",
        "# Handle multi-gpu if desired\n",
        "# if (device.type == 'cuda') and (ngpu > 1):\n",
        "#     netG = nn.DataParallel(netG, list(range(ngpu)))\n",
        "\n",
        "# Apply the weights_init function to randomly initialize all weights\n",
        "#  to mean=0, stdev=0.02.\n",
        "netG.apply(weights_init)\n",
        "\n",
        "# Print the model\n",
        "print(netG)"
      ],
      "metadata": {
        "colab": {
          "base_uri": "https://localhost:8080/"
        },
        "id": "9zAOhU78oPWw",
        "outputId": "8178ba89-3fa4-4cc4-a1b2-43abf49db464"
      },
      "execution_count": 513,
      "outputs": [
        {
          "output_type": "stream",
          "name": "stdout",
          "text": [
            "Generator(\n",
            "  (n1): Conv2d(3, 64, kernel_size=(4, 4), stride=(2, 2), padding=(1, 1))\n",
            "  (n2): Sequential(\n",
            "    (0): Conv2d(64, 128, kernel_size=(4, 4), stride=(2, 2), padding=(1, 1))\n",
            "    (1): BatchNorm2d(128, eps=1e-05, momentum=0.1, affine=True, track_running_stats=True)\n",
            "  )\n",
            "  (n3): Sequential(\n",
            "    (0): Conv2d(128, 256, kernel_size=(4, 4), stride=(2, 2), padding=(1, 1))\n",
            "    (1): BatchNorm2d(256, eps=1e-05, momentum=0.1, affine=True, track_running_stats=True)\n",
            "  )\n",
            "  (n4): Sequential(\n",
            "    (0): Conv2d(256, 512, kernel_size=(4, 4), stride=(2, 2), padding=(1, 1))\n",
            "    (1): BatchNorm2d(512, eps=1e-05, momentum=0.1, affine=True, track_running_stats=True)\n",
            "  )\n",
            "  (n5): Conv2d(512, 512, kernel_size=(4, 4), stride=(2, 2), padding=(1, 1))\n",
            "  (n6): Conv2d(512, 512, kernel_size=(4, 4), stride=(2, 2), padding=(1, 1))\n",
            "  (m9): Sequential(\n",
            "    (0): ConvTranspose2d(512, 512, kernel_size=(4, 4), stride=(2, 2), padding=(1, 1))\n",
            "    (1): BatchNorm2d(512, eps=1e-05, momentum=0.1, affine=True, track_running_stats=True)\n",
            "  )\n",
            "  (m0): Sequential(\n",
            "    (0): ConvTranspose2d(1024, 512, kernel_size=(4, 4), stride=(2, 2), padding=(1, 1))\n",
            "    (1): BatchNorm2d(512, eps=1e-05, momentum=0.1, affine=True, track_running_stats=True)\n",
            "  )\n",
            "  (m1): Sequential(\n",
            "    (0): ConvTranspose2d(1024, 256, kernel_size=(4, 4), stride=(2, 2), padding=(1, 1))\n",
            "    (1): BatchNorm2d(256, eps=1e-05, momentum=0.1, affine=True, track_running_stats=True)\n",
            "  )\n",
            "  (m2): Sequential(\n",
            "    (0): ConvTranspose2d(512, 128, kernel_size=(4, 4), stride=(2, 2), padding=(1, 1))\n",
            "    (1): BatchNorm2d(128, eps=1e-05, momentum=0.1, affine=True, track_running_stats=True)\n",
            "  )\n",
            "  (m3): Sequential(\n",
            "    (0): ConvTranspose2d(256, 64, kernel_size=(4, 4), stride=(2, 2), padding=(1, 1))\n",
            "    (1): BatchNorm2d(64, eps=1e-05, momentum=0.1, affine=True, track_running_stats=True)\n",
            "  )\n",
            "  (m4): ConvTranspose2d(128, 3, kernel_size=(4, 4), stride=(2, 2), padding=(1, 1))\n",
            "  (tanh): Tanh()\n",
            ")\n"
          ]
        }
      ]
    },
    {
      "cell_type": "markdown",
      "source": [
        "# Test Discriminator Class"
      ],
      "metadata": {
        "id": "3dAD5yuBovEC"
      }
    },
    {
      "cell_type": "code",
      "source": [
        "# class Discriminator(nn.Module):\n",
        "#     def __init__(self, ngpu):\n",
        "#         super(Discriminator, self).__init__()\n",
        "#         self.ngpu = ngpu\n",
        "#         self.main = nn.Sequential(\n",
        "#             # input is (nc) x 64 x 64\n",
        "#             nn.Conv2d(nc, ndf, 4, 2, 1, bias=False),\n",
        "#             nn.LeakyReLU(0.2, inplace=True),\n",
        "#             # state size. (ndf) x 32 x 32\n",
        "#             nn.Conv2d(ndf, ndf * 2, 4, 2, 1, bias=False),\n",
        "#             nn.BatchNorm2d(ndf * 2),\n",
        "#             nn.LeakyReLU(0.2, inplace=True),\n",
        "#             # state size. (ndf*2) x 16 x 16\n",
        "#             nn.Conv2d(ndf * 2, ndf * 4, 4, 2, 1, bias=False),\n",
        "#             nn.BatchNorm2d(ndf * 4),\n",
        "#             nn.LeakyReLU(0.2, inplace=True),\n",
        "#             # state size. (ndf*4) x 8 x 8\n",
        "#             nn.Conv2d(ndf * 4, ndf * 8, 4, 2, 1, bias=False),\n",
        "#             nn.BatchNorm2d(ndf * 8),\n",
        "#             nn.LeakyReLU(0.2, inplace=True),\n",
        "#             # state size. (ndf*8) x 4 x 4\n",
        "#             nn.Conv2d(ndf * 8, 1, 4, 1, 0, bias=False),\n",
        "#             nn.Sigmoid()\n",
        "#         )\n",
        "\n",
        "#     def forward(self, input):\n",
        "#         return self.main(input)"
      ],
      "metadata": {
        "id": "-uteXTLIoPsK"
      },
      "execution_count": 514,
      "outputs": []
    },
    {
      "cell_type": "markdown",
      "source": [
        "# Discriminator Class"
      ],
      "metadata": {
        "id": "MdLOdUQYwiNU"
      }
    },
    {
      "cell_type": "code",
      "source": [
        "dim_d = 64\n",
        "\n",
        "class Discriminator(nn.Module):\n",
        "    def __init__(self): \n",
        "        super(Discriminator, self).__init__()\n",
        "        self.c1 = conv(nc * 2, dim_d, 4, 2, 1) \n",
        "        self.c2 = conv_n(dim_d, dim_d*2, 4, 2, 1)\n",
        "        self.c3 = conv_n(dim_d*2, dim_d*4, 4, 2, 1)\n",
        "        self.c4 = conv_n(dim_d*4, dim_d*8, 4, 1, 1)\n",
        "        self.c5 = conv(dim_d*8, 1, 4, 1, 1)\n",
        "        self.sigmoid = nn.Sigmoid()\n",
        "\n",
        "    def forward(self, x, y):\n",
        "        xy=torch.cat([x,y],dim=1)\n",
        "        xy=F.leaky_relu(self.c1(xy), 0.2)\n",
        "        xy=F.leaky_relu(self.c2(xy), 0.2)\n",
        "        xy=F.leaky_relu(self.c3(xy), 0.2)\n",
        "        xy=F.leaky_relu(self.c4(xy), 0.2)\n",
        "        xy=self.c5(xy)\n",
        "\n",
        "        return self.sigmoid(xy)"
      ],
      "metadata": {
        "id": "9uKuuH2Jwk-E"
      },
      "execution_count": 515,
      "outputs": []
    },
    {
      "cell_type": "code",
      "source": [
        "# Create the Discriminator\n",
        "netD = Discriminator().to(device)\n",
        "\n",
        "# Handle multi-gpu if desired\n",
        "if (device.type == 'cuda') and (ngpu > 1):\n",
        "    netD = nn.DataParallel(netD, list(range(ngpu)))\n",
        "    \n",
        "# Apply the weights_init function to randomly initialize all weights\n",
        "#  to mean=0, stdev=0.2.\n",
        "netD.apply(weights_init)\n",
        "\n",
        "# Print the model\n",
        "print(netD)\n"
      ],
      "metadata": {
        "colab": {
          "base_uri": "https://localhost:8080/"
        },
        "id": "15dwxsbloUCd",
        "outputId": "6d0ae23c-c79f-43df-9383-765989733322"
      },
      "execution_count": 516,
      "outputs": [
        {
          "output_type": "stream",
          "name": "stdout",
          "text": [
            "Discriminator(\n",
            "  (c1): Conv2d(6, 64, kernel_size=(4, 4), stride=(2, 2), padding=(1, 1))\n",
            "  (c2): Sequential(\n",
            "    (0): Conv2d(64, 128, kernel_size=(4, 4), stride=(2, 2), padding=(1, 1))\n",
            "    (1): BatchNorm2d(128, eps=1e-05, momentum=0.1, affine=True, track_running_stats=True)\n",
            "  )\n",
            "  (c3): Sequential(\n",
            "    (0): Conv2d(128, 256, kernel_size=(4, 4), stride=(2, 2), padding=(1, 1))\n",
            "    (1): BatchNorm2d(256, eps=1e-05, momentum=0.1, affine=True, track_running_stats=True)\n",
            "  )\n",
            "  (c4): Sequential(\n",
            "    (0): Conv2d(256, 512, kernel_size=(4, 4), stride=(1, 1), padding=(1, 1))\n",
            "    (1): BatchNorm2d(512, eps=1e-05, momentum=0.1, affine=True, track_running_stats=True)\n",
            "  )\n",
            "  (c5): Conv2d(512, 1, kernel_size=(4, 4), stride=(1, 1), padding=(1, 1))\n",
            "  (sigmoid): Sigmoid()\n",
            ")\n"
          ]
        }
      ]
    },
    {
      "cell_type": "markdown",
      "source": [
        "# Loss Functions"
      ],
      "metadata": {
        "id": "5__grYzZoyY-"
      }
    },
    {
      "cell_type": "code",
      "source": [
        "\n",
        "def split(img, n): \n",
        "    return img[:,:,:,:n], img[:,:,:,n:] \n",
        "\n",
        "# Initialize BCELoss function\n",
        "criterion = nn.BCELoss()\n",
        "\n",
        "# Create batch of latent vectors that we will use to visualize\n",
        "#  the progression of the generator\n",
        "fixed_noise = torch.randn(64, nz, 1, 1, device=device)\n",
        "\n",
        "# Establish convention for real and fake labels during training\n",
        "real_label = 1.\n",
        "fake_label = 0.\n",
        "\n",
        "# Setup Adam optimizers for both G and D\n",
        "optimizerD = optim.Adam(netD.parameters(), lr=lr, betas=(beta1, 0.999))\n",
        "optimizerG = optim.Adam(netG.parameters(), lr=lr, betas=(beta1, 0.999))\n",
        "\n",
        "BCE = nn.BCELoss() #binary cross-entropy\n",
        "L1 = nn.L1Loss()\n",
        "\n",
        "fix_con = next(iter(test_dataloader))\n",
        "print(len(fix_con))\n",
        "fix_X, fix_y = fix_con\n",
        "print(type(fix_X))\n",
        "fix_X = fix_X.to(device)\n",
        "fix_y = fix_y.to(device)"
      ],
      "metadata": {
        "colab": {
          "base_uri": "https://localhost:8080/"
        },
        "id": "RVBN4FJtoUdy",
        "outputId": "794897ab-7a43-4212-c6d6-6563ddafa566"
      },
      "execution_count": 517,
      "outputs": [
        {
          "output_type": "stream",
          "name": "stdout",
          "text": [
            "2\n",
            "<class 'torch.Tensor'>\n"
          ]
        }
      ]
    },
    {
      "cell_type": "markdown",
      "source": [
        "# Training"
      ],
      "metadata": {
        "id": "ls-q7rmUn3br"
      }
    },
    {
      "cell_type": "code",
      "source": [
        "img_list = []\n",
        "netG_losses = []\n",
        "netD_losses = []\n",
        "netG_GAN_losses = []\n",
        "netG_L1_losses = []\n",
        "num_epochs = 200\n",
        "iter_per_plot = 100\n",
        "\n",
        "iters = 0\n",
        "L1_lambda = 100.0\n",
        "\n",
        "test_num = 7\n",
        "\n",
        "\n",
        "for epoch in tqdm(range(num_epochs)):\n",
        "# for epoch in range(num_epochs):\n",
        "    # for i, (data, _) in tqdm(enumerate(train_dataloader)):\n",
        "    for i, (x, y) in enumerate(train_dataloader):\n",
        "        # print(data.size())\n",
        "        # print(y.size())\n",
        "        size = x[0].shape[0]\n",
        "        x, y = x.to(device), y.to(device)\n",
        "\n",
        "        # netD\n",
        "        netD.zero_grad()\n",
        "\n",
        "        #real_patch\n",
        "        r_patch = netD(y, x)\n",
        "        r_masks = torch.ones(r_patch.shape).to(device)\n",
        "        f_masks = torch.zeros(r_patch.shape).to(device)\n",
        "        r_gan_loss=BCE(r_patch, r_masks)\n",
        "        \n",
        "        fake = netG(x)\n",
        "        # print(fake.shape)\n",
        "\n",
        "        #fake_patch\n",
        "        f_patch = netD(fake.detach(),x)\n",
        "        f_gan_loss=BCE(f_patch,f_masks)\n",
        "        netD_loss = r_gan_loss + f_gan_loss\n",
        "        netD_loss.backward()\n",
        "        optimizerD.step()\n",
        "        # netG\n",
        "        netG.zero_grad()\n",
        "        f_patch = netD(fake,x)\n",
        "        f_gan_loss=BCE(f_patch,r_masks)\n",
        "        L1_loss = L1(fake,y)\n",
        "        netG_loss = f_gan_loss + L1_lambda*L1_loss\n",
        "        netG_loss.backward()\n",
        "    \n",
        "        optimizerG.step()\n",
        "        iters += 1\n",
        "        if (iters + 1) % iter_per_plot == 0 :\n",
        "            \n",
        "            print('Epoch [{}/{}], Step [{}/{}], netD_loss: {:.4f}, netG_loss: {:.4f},netD(real): {:.2f}, netD(fake):{:.2f}, netG_loss_gan:{:.4f}, netG_loss_L1:{:.4f}'.format(epoch, num_epochs, i+1, len(train_dataloader), netD_loss.item(), netG_loss.item(), r_patch.mean(), f_patch.mean(), f_gan_loss.item(), L1_loss.item()))\n",
        "            \n",
        "            netG_losses.append(netG_loss.item())\n",
        "            netD_losses.append(netD_loss.item())\n",
        "            netG_GAN_losses.append(f_gan_loss.item())\n",
        "            netG_L1_losses.append(L1_loss.item())\n",
        "            with torch.no_grad():\n",
        "                netG.eval()\n",
        "                fake = netG(fix_X).detach().cpu()\n",
        "                netG.train()\n",
        "            figs=plt.figure(figsize=(10,10))\n",
        "            plt.subplot(1,3,1)\n",
        "            plt.axis(\"off\")\n",
        "            plt.title(\"input image\")\n",
        "            plt.imshow(np.transpose(vutils.make_grid(fix_X, nrow=1, padding=5, \n",
        "            normalize=True).cpu(), (1,2,0)))\n",
        "            plt.subplot(1,3,2)\n",
        "            plt.axis(\"off\")\n",
        "            plt.title(\"netGerated image\")\n",
        "            plt.imshow(np.transpose(vutils.make_grid(fake, nrow=1, padding=5, \n",
        "            normalize=True).cpu(), (1,2,0)))\n",
        "      \n",
        "            plt.subplot(1,3,3)\n",
        "            plt.axis(\"off\")\n",
        "            plt.title(\"ground truth\")\n",
        "            plt.imshow(np.transpose(vutils.make_grid(fix_y, nrow=1, padding=5, \n",
        "            normalize=True).cpu(), (1,2,0)))\n",
        "      \n",
        "            plt.savefig(os.path.join(path, 'logs/test' + str(test_num) + '/Test'+\"-\"+str(epoch) +\".png\"))\n",
        "            plt.close()\n",
        "            img_list.append(figs)"
      ],
      "metadata": {
        "colab": {
          "base_uri": "https://localhost:8080/"
        },
        "id": "4AS_xOzin4xf",
        "outputId": "36404829-294e-4c66-f510-4a4ef631537f"
      },
      "execution_count": null,
      "outputs": [
        {
          "output_type": "stream",
          "name": "stderr",
          "text": [
            "  2%|▏         | 3/200 [00:28<30:55,  9.42s/it]"
          ]
        },
        {
          "output_type": "stream",
          "name": "stdout",
          "text": [
            "Epoch [3/200], Step [24/25], netD_loss: 1.3956, netG_loss: 27.9048,netD(real): 0.78, netD(fake):0.06, netG_loss_gan:3.0516, netG_loss_L1:0.2485\n"
          ]
        },
        {
          "output_type": "stream",
          "name": "stderr",
          "text": [
            "  4%|▎         | 7/200 [01:05<30:03,  9.34s/it]"
          ]
        },
        {
          "output_type": "stream",
          "name": "stdout",
          "text": [
            "Epoch [7/200], Step [24/25], netD_loss: 1.0689, netG_loss: 22.3145,netD(real): 0.79, netD(fake):0.13, netG_loss_gan:2.2251, netG_loss_L1:0.2009\n"
          ]
        },
        {
          "output_type": "stream",
          "name": "stderr",
          "text": [
            "  6%|▌         | 11/200 [01:42<29:05,  9.24s/it]"
          ]
        },
        {
          "output_type": "stream",
          "name": "stdout",
          "text": [
            "Epoch [11/200], Step [24/25], netD_loss: 1.0875, netG_loss: 18.2571,netD(real): 0.70, netD(fake):0.27, netG_loss_gan:1.4376, netG_loss_L1:0.1682\n"
          ]
        },
        {
          "output_type": "stream",
          "name": "stderr",
          "text": [
            "  8%|▊         | 15/200 [02:19<28:33,  9.26s/it]"
          ]
        },
        {
          "output_type": "stream",
          "name": "stdout",
          "text": [
            "Epoch [15/200], Step [24/25], netD_loss: 1.1442, netG_loss: 16.6348,netD(real): 0.67, netD(fake):0.31, netG_loss_gan:1.2642, netG_loss_L1:0.1537\n"
          ]
        },
        {
          "output_type": "stream",
          "name": "stderr",
          "text": [
            " 10%|▉         | 19/200 [02:57<28:00,  9.28s/it]"
          ]
        },
        {
          "output_type": "stream",
          "name": "stdout",
          "text": [
            "Epoch [19/200], Step [24/25], netD_loss: 1.0828, netG_loss: 15.5059,netD(real): 0.72, netD(fake):0.23, netG_loss_gan:1.5935, netG_loss_L1:0.1391\n"
          ]
        },
        {
          "output_type": "stream",
          "name": "stderr",
          "text": [
            " 12%|█▏        | 23/200 [03:34<27:58,  9.48s/it]"
          ]
        },
        {
          "output_type": "stream",
          "name": "stdout",
          "text": [
            "Epoch [23/200], Step [24/25], netD_loss: 1.0816, netG_loss: 13.9989,netD(real): 0.56, netD(fake):0.42, netG_loss_gan:0.9351, netG_loss_L1:0.1306\n"
          ]
        },
        {
          "output_type": "stream",
          "name": "stderr",
          "text": [
            " 14%|█▎        | 27/200 [04:11<26:43,  9.27s/it]"
          ]
        },
        {
          "output_type": "stream",
          "name": "stdout",
          "text": [
            "Epoch [27/200], Step [24/25], netD_loss: 1.1337, netG_loss: 12.8485,netD(real): 0.48, netD(fake):0.43, netG_loss_gan:0.9060, netG_loss_L1:0.1194\n"
          ]
        },
        {
          "output_type": "stream",
          "name": "stderr",
          "text": [
            " 16%|█▌        | 31/200 [04:48<25:58,  9.22s/it]"
          ]
        },
        {
          "output_type": "stream",
          "name": "stdout",
          "text": [
            "Epoch [31/200], Step [24/25], netD_loss: 1.1657, netG_loss: 12.1972,netD(real): 0.45, netD(fake):0.41, netG_loss_gan:0.9314, netG_loss_L1:0.1127\n"
          ]
        },
        {
          "output_type": "stream",
          "name": "stderr",
          "text": [
            " 18%|█▊        | 35/200 [05:25<25:22,  9.23s/it]"
          ]
        },
        {
          "output_type": "stream",
          "name": "stdout",
          "text": [
            "Epoch [35/200], Step [24/25], netD_loss: 1.0578, netG_loss: 11.5392,netD(real): 0.51, netD(fake):0.39, netG_loss_gan:1.0287, netG_loss_L1:0.1051\n"
          ]
        },
        {
          "output_type": "stream",
          "name": "stderr",
          "text": [
            " 20%|█▉        | 39/200 [06:03<24:58,  9.31s/it]"
          ]
        },
        {
          "output_type": "stream",
          "name": "stdout",
          "text": [
            "Epoch [39/200], Step [24/25], netD_loss: 1.1455, netG_loss: 11.5419,netD(real): 0.58, netD(fake):0.34, netG_loss_gan:1.1563, netG_loss_L1:0.1039\n"
          ]
        },
        {
          "output_type": "stream",
          "name": "stderr",
          "text": [
            " 22%|██▏       | 43/200 [06:40<24:16,  9.28s/it]"
          ]
        },
        {
          "output_type": "stream",
          "name": "stdout",
          "text": [
            "Epoch [43/200], Step [24/25], netD_loss: 1.1536, netG_loss: 11.1151,netD(real): 0.62, netD(fake):0.32, netG_loss_gan:1.2129, netG_loss_L1:0.0990\n"
          ]
        },
        {
          "output_type": "stream",
          "name": "stderr",
          "text": [
            " 24%|██▎       | 47/200 [07:17<23:32,  9.23s/it]"
          ]
        },
        {
          "output_type": "stream",
          "name": "stdout",
          "text": [
            "Epoch [47/200], Step [24/25], netD_loss: 1.1069, netG_loss: 10.5152,netD(real): 0.62, netD(fake):0.36, netG_loss_gan:1.0619, netG_loss_L1:0.0945\n"
          ]
        },
        {
          "output_type": "stream",
          "name": "stderr",
          "text": [
            " 26%|██▌       | 51/200 [07:54<22:55,  9.23s/it]"
          ]
        },
        {
          "output_type": "stream",
          "name": "stdout",
          "text": [
            "Epoch [51/200], Step [24/25], netD_loss: 1.1625, netG_loss: 10.5133,netD(real): 0.65, netD(fake):0.35, netG_loss_gan:1.1171, netG_loss_L1:0.0940\n"
          ]
        },
        {
          "output_type": "stream",
          "name": "stderr",
          "text": [
            " 28%|██▊       | 55/200 [08:31<22:09,  9.17s/it]"
          ]
        },
        {
          "output_type": "stream",
          "name": "stdout",
          "text": [
            "Epoch [55/200], Step [24/25], netD_loss: 1.2208, netG_loss: 10.0042,netD(real): 0.72, netD(fake):0.31, netG_loss_gan:1.2258, netG_loss_L1:0.0878\n"
          ]
        },
        {
          "output_type": "stream",
          "name": "stderr",
          "text": [
            " 30%|██▉       | 59/200 [09:08<21:23,  9.10s/it]"
          ]
        },
        {
          "output_type": "stream",
          "name": "stdout",
          "text": [
            "Epoch [59/200], Step [24/25], netD_loss: 1.1399, netG_loss: 9.1349,netD(real): 0.60, netD(fake):0.57, netG_loss_gan:0.6054, netG_loss_L1:0.0853\n"
          ]
        },
        {
          "output_type": "stream",
          "name": "stderr",
          "text": [
            " 32%|███▏      | 63/200 [09:45<21:00,  9.20s/it]"
          ]
        },
        {
          "output_type": "stream",
          "name": "stdout",
          "text": [
            "Epoch [63/200], Step [24/25], netD_loss: 1.1299, netG_loss: 8.5606,netD(real): 0.44, netD(fake):0.66, netG_loss_gan:0.4344, netG_loss_L1:0.0813\n"
          ]
        },
        {
          "output_type": "stream",
          "name": "stderr",
          "text": [
            " 34%|███▎      | 67/200 [10:22<20:21,  9.18s/it]"
          ]
        },
        {
          "output_type": "stream",
          "name": "stdout",
          "text": [
            "Epoch [67/200], Step [24/25], netD_loss: 1.1553, netG_loss: 8.6970,netD(real): 0.40, netD(fake):0.62, netG_loss_gan:0.5042, netG_loss_L1:0.0819\n"
          ]
        },
        {
          "output_type": "stream",
          "name": "stderr",
          "text": [
            " 36%|███▌      | 71/200 [10:58<19:42,  9.16s/it]"
          ]
        },
        {
          "output_type": "stream",
          "name": "stdout",
          "text": [
            "Epoch [71/200], Step [24/25], netD_loss: 1.1022, netG_loss: 8.5328,netD(real): 0.42, netD(fake):0.55, netG_loss_gan:0.6330, netG_loss_L1:0.0790\n"
          ]
        },
        {
          "output_type": "stream",
          "name": "stderr",
          "text": [
            " 38%|███▊      | 75/200 [11:36<19:21,  9.29s/it]"
          ]
        },
        {
          "output_type": "stream",
          "name": "stdout",
          "text": [
            "Epoch [75/200], Step [24/25], netD_loss: 1.0733, netG_loss: 8.3222,netD(real): 0.45, netD(fake):0.47, netG_loss_gan:0.8001, netG_loss_L1:0.0752\n"
          ]
        },
        {
          "output_type": "stream",
          "name": "stderr",
          "text": [
            " 40%|███▉      | 79/200 [12:13<18:45,  9.30s/it]"
          ]
        },
        {
          "output_type": "stream",
          "name": "stdout",
          "text": [
            "Epoch [79/200], Step [24/25], netD_loss: 0.9859, netG_loss: 8.8868,netD(real): 0.56, netD(fake):0.34, netG_loss_gan:1.2213, netG_loss_L1:0.0767\n"
          ]
        },
        {
          "output_type": "stream",
          "name": "stderr",
          "text": [
            " 42%|████▏     | 83/200 [12:51<18:03,  9.26s/it]"
          ]
        },
        {
          "output_type": "stream",
          "name": "stdout",
          "text": [
            "Epoch [83/200], Step [24/25], netD_loss: 1.1001, netG_loss: 8.1205,netD(real): 0.53, netD(fake):0.38, netG_loss_gan:1.0184, netG_loss_L1:0.0710\n"
          ]
        },
        {
          "output_type": "stream",
          "name": "stderr",
          "text": [
            " 44%|████▎     | 87/200 [13:28<17:20,  9.21s/it]"
          ]
        },
        {
          "output_type": "stream",
          "name": "stdout",
          "text": [
            "Epoch [87/200], Step [24/25], netD_loss: 1.0171, netG_loss: 8.2287,netD(real): 0.56, netD(fake):0.29, netG_loss_gan:1.2938, netG_loss_L1:0.0693\n"
          ]
        },
        {
          "output_type": "stream",
          "name": "stderr",
          "text": [
            " 46%|████▌     | 91/200 [14:05<16:41,  9.19s/it]"
          ]
        },
        {
          "output_type": "stream",
          "name": "stdout",
          "text": [
            "Epoch [91/200], Step [24/25], netD_loss: 0.9932, netG_loss: 8.4700,netD(real): 0.66, netD(fake):0.26, netG_loss_gan:1.4268, netG_loss_L1:0.0704\n"
          ]
        },
        {
          "output_type": "stream",
          "name": "stderr",
          "text": [
            " 48%|████▊     | 95/200 [14:42<16:10,  9.24s/it]"
          ]
        },
        {
          "output_type": "stream",
          "name": "stdout",
          "text": [
            "Epoch [95/200], Step [24/25], netD_loss: 1.1242, netG_loss: 8.3799,netD(real): 0.61, netD(fake):0.31, netG_loss_gan:1.2200, netG_loss_L1:0.0716\n"
          ]
        },
        {
          "output_type": "stream",
          "name": "stderr",
          "text": [
            " 50%|████▉     | 99/200 [15:19<15:31,  9.22s/it]"
          ]
        },
        {
          "output_type": "stream",
          "name": "stdout",
          "text": [
            "Epoch [99/200], Step [24/25], netD_loss: 1.1229, netG_loss: 8.2325,netD(real): 0.63, netD(fake):0.27, netG_loss_gan:1.3814, netG_loss_L1:0.0685\n"
          ]
        },
        {
          "output_type": "stream",
          "name": "stderr",
          "text": [
            " 52%|█████▏    | 103/200 [15:57<15:00,  9.28s/it]"
          ]
        },
        {
          "output_type": "stream",
          "name": "stdout",
          "text": [
            "Epoch [103/200], Step [24/25], netD_loss: 1.1672, netG_loss: 8.0412,netD(real): 0.63, netD(fake):0.29, netG_loss_gan:1.2871, netG_loss_L1:0.0675\n"
          ]
        },
        {
          "output_type": "stream",
          "name": "stderr",
          "text": [
            " 54%|█████▎    | 107/200 [16:33<14:13,  9.18s/it]"
          ]
        },
        {
          "output_type": "stream",
          "name": "stdout",
          "text": [
            "Epoch [107/200], Step [24/25], netD_loss: 1.2379, netG_loss: 8.1917,netD(real): 0.61, netD(fake):0.32, netG_loss_gan:1.2141, netG_loss_L1:0.0698\n"
          ]
        },
        {
          "output_type": "stream",
          "name": "stderr",
          "text": [
            " 56%|█████▌    | 111/200 [17:10<13:32,  9.13s/it]"
          ]
        },
        {
          "output_type": "stream",
          "name": "stdout",
          "text": [
            "Epoch [111/200], Step [24/25], netD_loss: 1.4871, netG_loss: 6.8938,netD(real): 0.54, netD(fake):0.46, netG_loss_gan:0.8616, netG_loss_L1:0.0603\n"
          ]
        },
        {
          "output_type": "stream",
          "name": "stderr",
          "text": [
            " 57%|█████▊    | 115/200 [17:47<12:51,  9.08s/it]"
          ]
        },
        {
          "output_type": "stream",
          "name": "stdout",
          "text": [
            "Epoch [115/200], Step [24/25], netD_loss: 1.1176, netG_loss: 7.0372,netD(real): 0.61, netD(fake):0.35, netG_loss_gan:1.1161, netG_loss_L1:0.0592\n"
          ]
        },
        {
          "output_type": "stream",
          "name": "stderr",
          "text": [
            " 60%|█████▉    | 119/200 [18:23<12:19,  9.13s/it]"
          ]
        },
        {
          "output_type": "stream",
          "name": "stdout",
          "text": [
            "Epoch [119/200], Step [24/25], netD_loss: 1.3180, netG_loss: 7.3542,netD(real): 0.76, netD(fake):0.33, netG_loss_gan:1.1565, netG_loss_L1:0.0620\n"
          ]
        },
        {
          "output_type": "stream",
          "name": "stderr",
          "text": [
            " 62%|██████▏   | 123/200 [19:00<11:45,  9.17s/it]"
          ]
        },
        {
          "output_type": "stream",
          "name": "stdout",
          "text": [
            "Epoch [123/200], Step [24/25], netD_loss: 1.1567, netG_loss: 6.9523,netD(real): 0.54, netD(fake):0.56, netG_loss_gan:0.6129, netG_loss_L1:0.0634\n"
          ]
        },
        {
          "output_type": "stream",
          "name": "stderr",
          "text": [
            " 64%|██████▎   | 127/200 [19:37<11:10,  9.18s/it]"
          ]
        },
        {
          "output_type": "stream",
          "name": "stdout",
          "text": [
            "Epoch [127/200], Step [24/25], netD_loss: 1.0813, netG_loss: 6.7248,netD(real): 0.50, netD(fake):0.54, netG_loss_gan:0.6287, netG_loss_L1:0.0610\n"
          ]
        },
        {
          "output_type": "stream",
          "name": "stderr",
          "text": [
            " 66%|██████▌   | 131/200 [20:14<10:34,  9.20s/it]"
          ]
        },
        {
          "output_type": "stream",
          "name": "stdout",
          "text": [
            "Epoch [131/200], Step [24/25], netD_loss: 0.9948, netG_loss: 6.8267,netD(real): 0.53, netD(fake):0.51, netG_loss_gan:0.6875, netG_loss_L1:0.0614\n"
          ]
        },
        {
          "output_type": "stream",
          "name": "stderr",
          "text": [
            " 68%|██████▊   | 135/200 [20:51<10:01,  9.26s/it]"
          ]
        },
        {
          "output_type": "stream",
          "name": "stdout",
          "text": [
            "Epoch [135/200], Step [24/25], netD_loss: 0.9771, netG_loss: 6.5701,netD(real): 0.54, netD(fake):0.49, netG_loss_gan:0.7338, netG_loss_L1:0.0584\n"
          ]
        },
        {
          "output_type": "stream",
          "name": "stderr",
          "text": [
            "\r 68%|██████▊   | 136/200 [21:01<09:56,  9.32s/it]"
          ]
        }
      ]
    },
    {
      "cell_type": "markdown",
      "source": [
        "# Save Parameters"
      ],
      "metadata": {
        "id": "rR7pZQjqo2md"
      }
    },
    {
      "cell_type": "code",
      "source": [
        "torch.save(netG.state_dict(), path + 'netG_weights_long.params')"
      ],
      "metadata": {
        "id": "9oQDfsiIoWec"
      },
      "execution_count": null,
      "outputs": []
    },
    {
      "cell_type": "code",
      "source": [
        ""
      ],
      "metadata": {
        "id": "2I8Iy6bToa5w"
      },
      "execution_count": null,
      "outputs": []
    }
  ]
}